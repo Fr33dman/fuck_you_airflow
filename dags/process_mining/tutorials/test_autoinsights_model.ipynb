{
 "cells": [
  {
   "cell_type": "code",
   "execution_count": 1,
   "metadata": {},
   "outputs": [],
   "source": [
    "from pandas import read_excel\n",
    "\n",
    "from sberpm import DataHolder\n",
    "from sberpm.autoinsights import AutoInsights\n",
    "from sberpm.autoinsights._wrapper_auto_insights import WrapperAutoInsights"
   ]
  },
  {
   "cell_type": "markdown",
   "metadata": {},
   "source": [
    "#### AutoInsights from tutorial"
   ]
  },
  {
   "cell_type": "code",
   "execution_count": 2,
   "metadata": {},
   "outputs": [],
   "source": [
    "path = \"/home/argon/sber/sber_pm/tutorials/example.xlsx\"\n",
    "\n",
    "data_holder = DataHolder(\n",
    "    data=path,\n",
    "    id_column=\"id\",\n",
    "    activity_column=\"stages\",\n",
    "    start_timestamp_column=\"dt\",\n",
    "    #  end_timestamp_column='dt',\n",
    "    user_column=\"users\",\n",
    "    text_column=\"some_text\",\n",
    "    time_format=\"%Y-%m-%d\",\n",
    ")"
   ]
  },
  {
   "cell_type": "code",
   "execution_count": 3,
   "metadata": {},
   "outputs": [],
   "source": [
    "auto_i = AutoInsights(data_holder, success_activity=None, cluster_eps=0.1, min_cost=0.6)"
   ]
  },
  {
   "cell_type": "code",
   "execution_count": 4,
   "metadata": {},
   "outputs": [
    {
     "name": "stdout",
     "output_type": "stream",
     "text": [
      "\u001b[1mINFO\u001b[0m | sberpm.autoinsights._auto_insights: Автоинсайты успешно отработали\n",
      "CPU times: user 820 ms, sys: 143 ms, total: 963 ms\n",
      "Wall time: 839 ms\n"
     ]
    },
    {
     "name": "stderr",
     "output_type": "stream",
     "text": [
      "Mean of empty slice.\n",
      "invalid value encountered in double_scalars\n"
     ]
    }
   ],
   "source": [
    "%%time\n",
    "\n",
    "auto_i.apply()"
   ]
  },
  {
   "cell_type": "code",
   "execution_count": 5,
   "metadata": {},
   "outputs": [
    {
     "name": "stdout",
     "output_type": "stream",
     "text": [
      "В следующих этапах процесса отмечена высокая длительность. Максимальный потенциальный финансовым эффект от её снижения 3792845 рублей:\n",
      "\tStage_2\n",
      "\n",
      "Следующие этапы являются нерегулярными (редкими) и не требуются для успешной реализации процесса. Максимальный потенциальный финансовый эффект при отказе от данных этапов 7319855 рублей:\n",
      "\tStage_6\n",
      "\n",
      "В следующих этапах обнаружен Bottle neck, стабильно тормозящий процесс. Максимальный потенциальный финансовый эффект от его устранения 3792845 рублей:\n",
      "\tStage_2\n",
      "\n",
      "На данном этапе процесса возникают структурные ошибки, приводящие к неуспеху процесса. Максимальный потенциальный финансовый эффект от их устранения 93450240 рублей:\n",
      "\tStage_9, Stage_1, Stage_6, Stage_0, Stage_4, Stage_2, Stage_3, Stage_7, Stage_5\n",
      "\n",
      "********************************************************************************\n",
      "Суммарный финансовый эффект от АвтоИнсайтов 104562940 рублей:\n",
      "\tStage_9, Stage_1, Stage_6, Stage_0, Stage_4, Stage_2, Stage_3, Stage_7, Stage_5\n"
     ]
    }
   ],
   "source": [
    "print(auto_i.get_description())"
   ]
  },
  {
   "cell_type": "markdown",
   "metadata": {},
   "source": [
    "#### AutoInsights with default parameters and example data"
   ]
  },
  {
   "cell_type": "code",
   "execution_count": 6,
   "metadata": {},
   "outputs": [
    {
     "data": {
      "text/html": [
       "<div>\n",
       "<style scoped>\n",
       "    .dataframe tbody tr th:only-of-type {\n",
       "        vertical-align: middle;\n",
       "    }\n",
       "\n",
       "    .dataframe tbody tr th {\n",
       "        vertical-align: top;\n",
       "    }\n",
       "\n",
       "    .dataframe thead th {\n",
       "        text-align: right;\n",
       "    }\n",
       "</style>\n",
       "<table border=\"1\" class=\"dataframe\">\n",
       "  <thead>\n",
       "    <tr style=\"text-align: right;\">\n",
       "      <th></th>\n",
       "      <th>id</th>\n",
       "      <th>stages</th>\n",
       "      <th>dt</th>\n",
       "      <th>users</th>\n",
       "      <th>some_text</th>\n",
       "    </tr>\n",
       "  </thead>\n",
       "  <tbody>\n",
       "    <tr>\n",
       "      <th>0</th>\n",
       "      <td>0.0</td>\n",
       "      <td>Stage_0</td>\n",
       "      <td>2019-01-12</td>\n",
       "      <td>Oliver</td>\n",
       "      <td>Вход</td>\n",
       "    </tr>\n",
       "    <tr>\n",
       "      <th>1</th>\n",
       "      <td>0.0</td>\n",
       "      <td>Stage_3</td>\n",
       "      <td>2019-02-12</td>\n",
       "      <td>Liam</td>\n",
       "      <td>Выбор операции</td>\n",
       "    </tr>\n",
       "    <tr>\n",
       "      <th>2</th>\n",
       "      <td>0.0</td>\n",
       "      <td>Stage_5</td>\n",
       "      <td>2019-05-12</td>\n",
       "      <td>Emma</td>\n",
       "      <td>Печать договора</td>\n",
       "    </tr>\n",
       "    <tr>\n",
       "      <th>3</th>\n",
       "      <td>0.0</td>\n",
       "      <td>Stage_2</td>\n",
       "      <td>2019-11-12</td>\n",
       "      <td>Patricia</td>\n",
       "      <td>Загрузка сотрудником скана документа в систему</td>\n",
       "    </tr>\n",
       "    <tr>\n",
       "      <th>4</th>\n",
       "      <td>0.0</td>\n",
       "      <td>Stage_7</td>\n",
       "      <td>2019-12-17</td>\n",
       "      <td>Callum</td>\n",
       "      <td>Отмена операции</td>\n",
       "    </tr>\n",
       "  </tbody>\n",
       "</table>\n",
       "</div>"
      ],
      "text/plain": [
       "    id   stages         dt     users  \\\n",
       "0  0.0  Stage_0 2019-01-12    Oliver   \n",
       "1  0.0  Stage_3 2019-02-12      Liam   \n",
       "2  0.0  Stage_5 2019-05-12      Emma   \n",
       "3  0.0  Stage_2 2019-11-12  Patricia   \n",
       "4  0.0  Stage_7 2019-12-17    Callum   \n",
       "\n",
       "                                        some_text  \n",
       "0                                            Вход  \n",
       "1                                  Выбор операции  \n",
       "2                                 Печать договора  \n",
       "3  Загрузка сотрудником скана документа в систему  \n",
       "4                                 Отмена операции  "
      ]
     },
     "execution_count": 6,
     "metadata": {},
     "output_type": "execute_result"
    }
   ],
   "source": [
    "df = read_excel('example.xlsx')\n",
    "df.head()"
   ]
  },
  {
   "cell_type": "code",
   "execution_count": 7,
   "metadata": {},
   "outputs": [
    {
     "name": "stderr",
     "output_type": "stream",
     "text": [
      "DataHolder: 'time_format' is not set, recommended to specify it for correct time conversion, e.g., time_format='%d-%m-%Y %H:%M:%S'\n",
      "DataHolder: timestamp auto conversion will be done. 'dayfirst' is not set, in ambiguous cases it will be considered as False.\n",
      "DataHolder: timestamp auto conversion will be done. 'yearfirst' is not set, in ambiguous cases it will be considered as False.\n"
     ]
    }
   ],
   "source": [
    "insights = WrapperAutoInsights(\n",
    "    data=df,\n",
    "    model_params={\n",
    "        \"notation_params\": dict(\n",
    "            id_col=\"id\",\n",
    "            status_col=\"stages\",\n",
    "            date_col=\"dt\",\n",
    "            date_end_col=None,\n",
    "        ),\n",
    "        \"model_params\": dict(\n",
    "            text_column=\"some_text\",\n",
    "            success_activity=None,\n",
    "            cluster_eps=0.1,\n",
    "            min_cost=0.6,\n",
    "            output_type=\"financial_only_effect\",\n",
    "        ),\n",
    "    },\n",
    ")"
   ]
  },
  {
   "cell_type": "code",
   "execution_count": 8,
   "metadata": {},
   "outputs": [
    {
     "name": "stdout",
     "output_type": "stream",
     "text": [
      "\u001b[1mINFO\u001b[0m | sberpm.autoinsights._auto_insights: Автоинсайты успешно отработали\n",
      "CPU times: user 871 ms, sys: 106 ms, total: 977 ms\n",
      "Wall time: 854 ms\n"
     ]
    },
    {
     "name": "stderr",
     "output_type": "stream",
     "text": [
      "Mean of empty slice.\n",
      "invalid value encountered in double_scalars\n"
     ]
    }
   ],
   "source": [
    "%%time\n",
    "\n",
    "insights_output = insights.run_model()"
   ]
  },
  {
   "cell_type": "code",
   "execution_count": 9,
   "metadata": {},
   "outputs": [
    {
     "data": {
      "text/plain": [
       "array([['В следующих этапах процесса отмечена высокая длительность. Максимальный потенциальный финансовым эффект от её снижения 3792845 рублей',\n",
       "        'Stage_2'],\n",
       "       ['Следующие этапы являются нерегулярными (редкими) и не требуются для успешной реализации процесса. Максимальный потенциальный финансовый эффект при отказе от данных этапов 7319855 рублей',\n",
       "        'Stage_6'],\n",
       "       ['В следующих этапах обнаружен Bottle neck, стабильно тормозящий процесс. Максимальный потенциальный финансовый эффект от его устранения 3792845 рублей',\n",
       "        'Stage_2'],\n",
       "       ['На данном этапе процесса возникают структурные ошибки, приводящие к неуспеху процесса. Максимальный потенциальный финансовый эффект от их устранения 93450240 рублей',\n",
       "        'Stage_9, Stage_1, Stage_6, Stage_0, Stage_4, Stage_2, Stage_3, Stage_7, Stage_5'],\n",
       "       ['*******************************************************************************',\n",
       "        'уммарный финансовый эффект от АвтоИнсайтов 104562940 рублей:']],\n",
       "      dtype=object)"
      ]
     },
     "execution_count": 9,
     "metadata": {},
     "output_type": "execute_result"
    }
   ],
   "source": [
    "insights_output.values"
   ]
  }
 ],
 "metadata": {
  "kernelspec": {
   "display_name": "Python 3.8.12 ('.pm')",
   "language": "python",
   "name": "python3"
  },
  "language_info": {
   "codemirror_mode": {
    "name": "ipython",
    "version": 3
   },
   "file_extension": ".py",
   "mimetype": "text/x-python",
   "name": "python",
   "nbconvert_exporter": "python",
   "pygments_lexer": "ipython3",
   "version": "3.8.12"
  },
  "orig_nbformat": 4,
  "vscode": {
   "interpreter": {
    "hash": "a5b3d609ea34d905782f74e70b860c8b5093bfe8c4c29182a72689cb5f1bcef4"
   }
  }
 },
 "nbformat": 4,
 "nbformat_minor": 2
}
