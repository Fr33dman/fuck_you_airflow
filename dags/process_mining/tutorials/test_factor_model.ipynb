{
 "cells": [
  {
   "cell_type": "code",
   "execution_count": 1,
   "metadata": {},
   "outputs": [],
   "source": [
    "from pandas import read_csv\n",
    "\n",
    "from sberpm import DataHolder\n",
    "from sberpm.ml.factor_analysis import FactorAnalysis\n",
    "from sberpm.ml.factor_analysis._wrapper_factor_analysis import WrapperFactorAnalysis"
   ]
  },
  {
   "cell_type": "markdown",
   "metadata": {},
   "source": [
    "#### FactorAnalysis from tutorial"
   ]
  },
  {
   "cell_type": "code",
   "execution_count": 2,
   "metadata": {},
   "outputs": [],
   "source": [
    "path = \"InternationalDeclarations.csv\"\n",
    "\n",
    "data_holder = DataHolder(\n",
    "        data=path,\n",
    "        id_column=\"id\",\n",
    "        activity_column=\"concept:name\",\n",
    "        start_timestamp_column=\"time:timestamp\",\n",
    "        time_format=\"%Y-%m-%d %H:%M:%S\",\n",
    "        utc=True,\n",
    "    )"
   ]
  },
  {
   "cell_type": "code",
   "execution_count": 3,
   "metadata": {},
   "outputs": [],
   "source": [
    "fa_inst = FactorAnalysis(\n",
    "    data_holder=data_holder,\n",
    "    target_column='case:AdjustedAmount',\n",
    "    type_of_target=\"number\",\n",
    "    categorical_cols=['org:resource', 'case:Permit ActivityNumber','org:role'],\n",
    "    numeric_cols=['case:Amount','case:RequestedAmount','case:Permit RequestedBudget'],\n",
    "    date_cols=['time:timestamp'],\n",
    "    extended_search=True,\n",
    "    count_others=True,\n",
    ")"
   ]
  },
  {
   "cell_type": "code",
   "execution_count": 4,
   "metadata": {},
   "outputs": [
    {
     "name": "stdout",
     "output_type": "stream",
     "text": [
      "Too many unique values in case:Permit ActivityNumber\n",
      "CPU times: user 3.7 s, sys: 3.02 s, total: 6.72 s\n",
      "Wall time: 6.32 s\n"
     ]
    },
    {
     "data": {
      "text/html": [
       "<div>\n",
       "<style scoped>\n",
       "    .dataframe tbody tr th:only-of-type {\n",
       "        vertical-align: middle;\n",
       "    }\n",
       "\n",
       "    .dataframe tbody tr th {\n",
       "        vertical-align: top;\n",
       "    }\n",
       "\n",
       "    .dataframe thead th {\n",
       "        text-align: right;\n",
       "    }\n",
       "</style>\n",
       "<table border=\"1\" class=\"dataframe\">\n",
       "  <thead>\n",
       "    <tr style=\"text-align: right;\">\n",
       "      <th></th>\n",
       "      <th>org:resource</th>\n",
       "      <th>case:Permit ActivityNumber</th>\n",
       "      <th>org:role</th>\n",
       "      <th>case:Amount</th>\n",
       "      <th>case:RequestedAmount</th>\n",
       "      <th>case:Permit RequestedBudget</th>\n",
       "      <th>time:timestamp</th>\n",
       "      <th>Прочее</th>\n",
       "    </tr>\n",
       "  </thead>\n",
       "  <tbody>\n",
       "    <tr>\n",
       "      <th>results_extended</th>\n",
       "      <td>0.000152</td>\n",
       "      <td>0.032259</td>\n",
       "      <td>0.12237</td>\n",
       "      <td>60.048425</td>\n",
       "      <td>37.767834</td>\n",
       "      <td>2.010445</td>\n",
       "      <td>0.018238</td>\n",
       "      <td>0.000277</td>\n",
       "    </tr>\n",
       "  </tbody>\n",
       "</table>\n",
       "</div>"
      ],
      "text/plain": [
       "                  org:resource  case:Permit ActivityNumber  org:role  \\\n",
       "results_extended      0.000152                    0.032259   0.12237   \n",
       "\n",
       "                  case:Amount  case:RequestedAmount  \\\n",
       "results_extended    60.048425             37.767834   \n",
       "\n",
       "                  case:Permit RequestedBudget  time:timestamp    Прочее  \n",
       "results_extended                     2.010445        0.018238  0.000277  "
      ]
     },
     "execution_count": 4,
     "metadata": {},
     "output_type": "execute_result"
    }
   ],
   "source": [
    "%%time\n",
    "\n",
    "fa_inst.apply()"
   ]
  },
  {
   "cell_type": "markdown",
   "metadata": {},
   "source": [
    "#### FactorAnalysis with parameters and data from tutorial"
   ]
  },
  {
   "cell_type": "code",
   "execution_count": 5,
   "metadata": {},
   "outputs": [
    {
     "data": {
      "text/html": [
       "<div>\n",
       "<style scoped>\n",
       "    .dataframe tbody tr th:only-of-type {\n",
       "        vertical-align: middle;\n",
       "    }\n",
       "\n",
       "    .dataframe tbody tr th {\n",
       "        vertical-align: top;\n",
       "    }\n",
       "\n",
       "    .dataframe thead th {\n",
       "        text-align: right;\n",
       "    }\n",
       "</style>\n",
       "<table border=\"1\" class=\"dataframe\">\n",
       "  <thead>\n",
       "    <tr style=\"text-align: right;\">\n",
       "      <th></th>\n",
       "      <th>id</th>\n",
       "      <th>org:resource</th>\n",
       "      <th>concept:name</th>\n",
       "      <th>time:timestamp</th>\n",
       "      <th>org:role</th>\n",
       "      <th>case:Permit travel permit number</th>\n",
       "      <th>case:DeclarationNumber</th>\n",
       "      <th>case:Amount</th>\n",
       "      <th>case:RequestedAmount</th>\n",
       "      <th>case:Permit TaskNumber</th>\n",
       "      <th>...</th>\n",
       "      <th>case:concept:name</th>\n",
       "      <th>case:Permit OrganizationalEntity</th>\n",
       "      <th>case:travel permit number</th>\n",
       "      <th>case:Permit RequestedBudget</th>\n",
       "      <th>case:id</th>\n",
       "      <th>case:Permit ID</th>\n",
       "      <th>case:Permit id</th>\n",
       "      <th>case:BudgetNumber</th>\n",
       "      <th>case:Permit ActivityNumber</th>\n",
       "      <th>case:AdjustedAmount</th>\n",
       "    </tr>\n",
       "  </thead>\n",
       "  <tbody>\n",
       "    <tr>\n",
       "      <th>0</th>\n",
       "      <td>rv_travel permit 76455_6</td>\n",
       "      <td>STAFF MEMBER</td>\n",
       "      <td>Start trip</td>\n",
       "      <td>2016-10-04 22:00:00+00:00</td>\n",
       "      <td>EMPLOYEE</td>\n",
       "      <td>travel permit number 76456</td>\n",
       "      <td>declaration number 76458</td>\n",
       "      <td>39.664561</td>\n",
       "      <td>39.664561</td>\n",
       "      <td>UNKNOWN</td>\n",
       "      <td>...</td>\n",
       "      <td>declaration 76457</td>\n",
       "      <td>organizational unit 65458</td>\n",
       "      <td>travel permit number 76456</td>\n",
       "      <td>41.613445</td>\n",
       "      <td>declaration 76457</td>\n",
       "      <td>travel permit 76455</td>\n",
       "      <td>travel permit 76455</td>\n",
       "      <td>budget 144133</td>\n",
       "      <td>activity 46005</td>\n",
       "      <td>39.664561</td>\n",
       "    </tr>\n",
       "    <tr>\n",
       "      <th>1</th>\n",
       "      <td>rv_travel permit 76455_7</td>\n",
       "      <td>STAFF MEMBER</td>\n",
       "      <td>End trip</td>\n",
       "      <td>2016-10-04 22:00:00+00:00</td>\n",
       "      <td>EMPLOYEE</td>\n",
       "      <td>travel permit number 76456</td>\n",
       "      <td>declaration number 76458</td>\n",
       "      <td>39.664561</td>\n",
       "      <td>39.664561</td>\n",
       "      <td>UNKNOWN</td>\n",
       "      <td>...</td>\n",
       "      <td>declaration 76457</td>\n",
       "      <td>organizational unit 65458</td>\n",
       "      <td>travel permit number 76456</td>\n",
       "      <td>41.613445</td>\n",
       "      <td>declaration 76457</td>\n",
       "      <td>travel permit 76455</td>\n",
       "      <td>travel permit 76455</td>\n",
       "      <td>budget 144133</td>\n",
       "      <td>activity 46005</td>\n",
       "      <td>39.664561</td>\n",
       "    </tr>\n",
       "  </tbody>\n",
       "</table>\n",
       "<p>2 rows × 23 columns</p>\n",
       "</div>"
      ],
      "text/plain": [
       "                         id  org:resource concept:name  \\\n",
       "0  rv_travel permit 76455_6  STAFF MEMBER   Start trip   \n",
       "1  rv_travel permit 76455_7  STAFF MEMBER     End trip   \n",
       "\n",
       "             time:timestamp  org:role case:Permit travel permit number  \\\n",
       "0 2016-10-04 22:00:00+00:00  EMPLOYEE       travel permit number 76456   \n",
       "1 2016-10-04 22:00:00+00:00  EMPLOYEE       travel permit number 76456   \n",
       "\n",
       "     case:DeclarationNumber  case:Amount  case:RequestedAmount  \\\n",
       "0  declaration number 76458    39.664561             39.664561   \n",
       "1  declaration number 76458    39.664561             39.664561   \n",
       "\n",
       "  case:Permit TaskNumber  ...  case:concept:name  \\\n",
       "0                UNKNOWN  ...  declaration 76457   \n",
       "1                UNKNOWN  ...  declaration 76457   \n",
       "\n",
       "   case:Permit OrganizationalEntity   case:travel permit number  \\\n",
       "0         organizational unit 65458  travel permit number 76456   \n",
       "1         organizational unit 65458  travel permit number 76456   \n",
       "\n",
       "  case:Permit RequestedBudget            case:id       case:Permit ID  \\\n",
       "0                   41.613445  declaration 76457  travel permit 76455   \n",
       "1                   41.613445  declaration 76457  travel permit 76455   \n",
       "\n",
       "        case:Permit id case:BudgetNumber case:Permit ActivityNumber  \\\n",
       "0  travel permit 76455     budget 144133             activity 46005   \n",
       "1  travel permit 76455     budget 144133             activity 46005   \n",
       "\n",
       "  case:AdjustedAmount  \n",
       "0           39.664561  \n",
       "1           39.664561  \n",
       "\n",
       "[2 rows x 23 columns]"
      ]
     },
     "execution_count": 5,
     "metadata": {},
     "output_type": "execute_result"
    }
   ],
   "source": [
    "from pandas import to_datetime\n",
    "\n",
    "df = read_csv(\"InternationalDeclarations.csv\")\n",
    "\n",
    "time_column = \"time:timestamp\"\n",
    "time_format = \"%Y-%m-%d %H:%M:%S\"\n",
    "df[time_column] = to_datetime(df[time_column], format=time_format, errors=\"raise\", utc=True)\n",
    "\n",
    "df.head(2)"
   ]
  },
  {
   "cell_type": "code",
   "execution_count": 6,
   "metadata": {},
   "outputs": [
    {
     "name": "stderr",
     "output_type": "stream",
     "text": [
      "DataHolder: 'time_format' is not set, recommended to specify it for correct time conversion, e.g., time_format='%d-%m-%Y %H:%M:%S'\n",
      "DataHolder: timestamp auto conversion will be done. 'dayfirst' is not set, in ambiguous cases it will be considered as False.\n",
      "DataHolder: timestamp auto conversion will be done. 'yearfirst' is not set, in ambiguous cases it will be considered as False.\n"
     ]
    }
   ],
   "source": [
    "factors = WrapperFactorAnalysis(\n",
    "    data=df,\n",
    "    model_params={\n",
    "        \"notation_params\": dict(\n",
    "            id_col=\"id\",\n",
    "            status_col=\"concept:name\",\n",
    "            date_col=\"time:timestamp\",\n",
    "            date_end_col=None,\n",
    "        ),\n",
    "        \"model_params\": dict(\n",
    "            target_column='case:AdjustedAmount',\n",
    "            type_of_target=\"number\",\n",
    "            categorical_cols=['org:resource', 'case:Permit ActivityNumber','org:role'],\n",
    "            numeric_cols=['case:Amount','case:RequestedAmount','case:Permit RequestedBudget'],\n",
    "            date_cols=['time:timestamp'],\n",
    "            extended_search=True,\n",
    "            count_others=True,\n",
    "        ),\n",
    "    },\n",
    ")"
   ]
  },
  {
   "cell_type": "code",
   "execution_count": 7,
   "metadata": {},
   "outputs": [
    {
     "name": "stdout",
     "output_type": "stream",
     "text": [
      "Too many unique values in case:Permit ActivityNumber\n",
      "CPU times: user 3.84 s, sys: 2.8 s, total: 6.64 s\n",
      "Wall time: 4.83 s\n"
     ]
    }
   ],
   "source": [
    "%%time\n",
    "\n",
    "factors_output = factors.run_model()"
   ]
  },
  {
   "cell_type": "code",
   "execution_count": 8,
   "metadata": {},
   "outputs": [
    {
     "data": {
      "text/html": [
       "<div>\n",
       "<style scoped>\n",
       "    .dataframe tbody tr th:only-of-type {\n",
       "        vertical-align: middle;\n",
       "    }\n",
       "\n",
       "    .dataframe tbody tr th {\n",
       "        vertical-align: top;\n",
       "    }\n",
       "\n",
       "    .dataframe thead th {\n",
       "        text-align: right;\n",
       "    }\n",
       "</style>\n",
       "<table border=\"1\" class=\"dataframe\">\n",
       "  <thead>\n",
       "    <tr style=\"text-align: right;\">\n",
       "      <th></th>\n",
       "      <th>org:resource</th>\n",
       "      <th>case:Permit ActivityNumber</th>\n",
       "      <th>org:role</th>\n",
       "      <th>case:Amount</th>\n",
       "      <th>case:RequestedAmount</th>\n",
       "      <th>case:Permit RequestedBudget</th>\n",
       "      <th>time:timestamp</th>\n",
       "      <th>Прочее</th>\n",
       "    </tr>\n",
       "  </thead>\n",
       "  <tbody>\n",
       "    <tr>\n",
       "      <th>results_extended</th>\n",
       "      <td>0,000152</td>\n",
       "      <td>0,032259</td>\n",
       "      <td>0,12237</td>\n",
       "      <td>60,041421</td>\n",
       "      <td>37,774838</td>\n",
       "      <td>2,010445</td>\n",
       "      <td>0,018238</td>\n",
       "      <td>0,000277</td>\n",
       "    </tr>\n",
       "  </tbody>\n",
       "</table>\n",
       "</div>"
      ],
      "text/plain": [
       "                 org:resource case:Permit ActivityNumber org:role case:Amount  \\\n",
       "results_extended     0,000152                   0,032259  0,12237   60,041421   \n",
       "\n",
       "                 case:RequestedAmount case:Permit RequestedBudget  \\\n",
       "results_extended            37,774838                    2,010445   \n",
       "\n",
       "                 time:timestamp    Прочее  \n",
       "results_extended       0,018238  0,000277  "
      ]
     },
     "execution_count": 8,
     "metadata": {},
     "output_type": "execute_result"
    }
   ],
   "source": [
    "factors_output"
   ]
  }
 ],
 "metadata": {
  "kernelspec": {
   "display_name": "Python 3.8.12 ('.pm')",
   "language": "python",
   "name": "python3"
  },
  "language_info": {
   "codemirror_mode": {
    "name": "ipython",
    "version": 3
   },
   "file_extension": ".py",
   "mimetype": "text/x-python",
   "name": "python",
   "nbconvert_exporter": "python",
   "pygments_lexer": "ipython3",
   "version": "3.8.12"
  },
  "orig_nbformat": 4,
  "vscode": {
   "interpreter": {
    "hash": "a5b3d609ea34d905782f74e70b860c8b5093bfe8c4c29182a72689cb5f1bcef4"
   }
  }
 },
 "nbformat": 4,
 "nbformat_minor": 2
}
