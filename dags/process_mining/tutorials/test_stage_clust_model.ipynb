{
 "cells": [
  {
   "cell_type": "code",
   "execution_count": 1,
   "metadata": {},
   "outputs": [],
   "source": [
    "from pandas import read_excel\n",
    "\n",
    "from sberpm.ml.stages_clustering._wrapper_stages_clustering import WrapperStagesClustering "
   ]
  },
  {
   "cell_type": "code",
   "execution_count": 2,
   "metadata": {},
   "outputs": [
    {
     "data": {
      "text/html": [
       "<div>\n",
       "<style scoped>\n",
       "    .dataframe tbody tr th:only-of-type {\n",
       "        vertical-align: middle;\n",
       "    }\n",
       "\n",
       "    .dataframe tbody tr th {\n",
       "        vertical-align: top;\n",
       "    }\n",
       "\n",
       "    .dataframe thead th {\n",
       "        text-align: right;\n",
       "    }\n",
       "</style>\n",
       "<table border=\"1\" class=\"dataframe\">\n",
       "  <thead>\n",
       "    <tr style=\"text-align: right;\">\n",
       "      <th></th>\n",
       "      <th>id</th>\n",
       "      <th>stages</th>\n",
       "      <th>dt</th>\n",
       "      <th>users</th>\n",
       "      <th>some_text</th>\n",
       "    </tr>\n",
       "  </thead>\n",
       "  <tbody>\n",
       "    <tr>\n",
       "      <th>0</th>\n",
       "      <td>0.0</td>\n",
       "      <td>Stage_0</td>\n",
       "      <td>2019-01-12</td>\n",
       "      <td>Oliver</td>\n",
       "      <td>Вход</td>\n",
       "    </tr>\n",
       "    <tr>\n",
       "      <th>1</th>\n",
       "      <td>0.0</td>\n",
       "      <td>Stage_3</td>\n",
       "      <td>2019-02-12</td>\n",
       "      <td>Liam</td>\n",
       "      <td>Выбор операции</td>\n",
       "    </tr>\n",
       "    <tr>\n",
       "      <th>2</th>\n",
       "      <td>0.0</td>\n",
       "      <td>Stage_5</td>\n",
       "      <td>2019-05-12</td>\n",
       "      <td>Emma</td>\n",
       "      <td>Печать договора</td>\n",
       "    </tr>\n",
       "    <tr>\n",
       "      <th>3</th>\n",
       "      <td>0.0</td>\n",
       "      <td>Stage_2</td>\n",
       "      <td>2019-11-12</td>\n",
       "      <td>Patricia</td>\n",
       "      <td>Загрузка сотрудником скана документа в систему</td>\n",
       "    </tr>\n",
       "    <tr>\n",
       "      <th>4</th>\n",
       "      <td>0.0</td>\n",
       "      <td>Stage_7</td>\n",
       "      <td>2019-12-17</td>\n",
       "      <td>Callum</td>\n",
       "      <td>Отмена операции</td>\n",
       "    </tr>\n",
       "  </tbody>\n",
       "</table>\n",
       "</div>"
      ],
      "text/plain": [
       "    id   stages         dt     users  \\\n",
       "0  0.0  Stage_0 2019-01-12    Oliver   \n",
       "1  0.0  Stage_3 2019-02-12      Liam   \n",
       "2  0.0  Stage_5 2019-05-12      Emma   \n",
       "3  0.0  Stage_2 2019-11-12  Patricia   \n",
       "4  0.0  Stage_7 2019-12-17    Callum   \n",
       "\n",
       "                                        some_text  \n",
       "0                                            Вход  \n",
       "1                                  Выбор операции  \n",
       "2                                 Печать договора  \n",
       "3  Загрузка сотрудником скана документа в систему  \n",
       "4                                 Отмена операции  "
      ]
     },
     "execution_count": 2,
     "metadata": {},
     "output_type": "execute_result"
    }
   ],
   "source": [
    "df = read_excel('example.xlsx')\n",
    "df.head()"
   ]
  },
  {
   "cell_type": "markdown",
   "metadata": {},
   "source": [
    "#### StagesClustering with default parameters and example data"
   ]
  },
  {
   "cell_type": "code",
   "execution_count": 3,
   "metadata": {},
   "outputs": [
    {
     "name": "stderr",
     "output_type": "stream",
     "text": [
      "DataHolder: 'time_format' is not set, recommended to specify it for correct time conversion, e.g., time_format='%d-%m-%Y %H:%M:%S'\n",
      "DataHolder: timestamp auto conversion will be done. 'dayfirst' is not set, in ambiguous cases it will be considered as False.\n",
      "DataHolder: timestamp auto conversion will be done. 'yearfirst' is not set, in ambiguous cases it will be considered as False.\n"
     ]
    }
   ],
   "source": [
    "st_clust = WrapperStagesClustering(\n",
    "    data=df,\n",
    "    model_params={\n",
    "        \"notation_params\": dict(\n",
    "            id_col=\"id\",\n",
    "            status_col=\"stages\",\n",
    "            date_col=\"dt\",\n",
    "            date_end_col=None,\n",
    "            user_id_col=None,\n",
    "            other=\"some_text\",\n",
    "        ),\n",
    "        \"model_params\": dict(\n",
    "            stages_col=\"some_text\",\n",
    "            generalizing_ability=0.5,\n",
    "            type_model_w2v=\"navec\",\n",
    "        ),\n",
    "    },\n",
    ")"
   ]
  },
  {
   "cell_type": "code",
   "execution_count": 4,
   "metadata": {},
   "outputs": [
    {
     "name": "stdout",
     "output_type": "stream",
     "text": [
      "CPU times: user 803 ms, sys: 913 ms, total: 1.72 s\n",
      "Wall time: 667 ms\n"
     ]
    }
   ],
   "source": [
    "%%time\n",
    "\n",
    "stage_clustering_output = st_clust.run_model()"
   ]
  },
  {
   "cell_type": "code",
   "execution_count": 5,
   "metadata": {},
   "outputs": [
    {
     "data": {
      "text/html": [
       "<div>\n",
       "<style scoped>\n",
       "    .dataframe tbody tr th:only-of-type {\n",
       "        vertical-align: middle;\n",
       "    }\n",
       "\n",
       "    .dataframe tbody tr th {\n",
       "        vertical-align: top;\n",
       "    }\n",
       "\n",
       "    .dataframe thead th {\n",
       "        text-align: right;\n",
       "    }\n",
       "</style>\n",
       "<table border=\"1\" class=\"dataframe\">\n",
       "  <thead>\n",
       "    <tr style=\"text-align: right;\">\n",
       "      <th></th>\n",
       "      <th>some_text</th>\n",
       "      <th>Номер кластера (-1 - выбросы)</th>\n",
       "    </tr>\n",
       "  </thead>\n",
       "  <tbody>\n",
       "    <tr>\n",
       "      <th>0</th>\n",
       "      <td>Вход</td>\n",
       "      <td>-1</td>\n",
       "    </tr>\n",
       "    <tr>\n",
       "      <th>1</th>\n",
       "      <td>Выбор операции</td>\n",
       "      <td>-1</td>\n",
       "    </tr>\n",
       "    <tr>\n",
       "      <th>2</th>\n",
       "      <td>Печать договора</td>\n",
       "      <td>-1</td>\n",
       "    </tr>\n",
       "    <tr>\n",
       "      <th>3</th>\n",
       "      <td>Загрузка сотрудником скана документа в систему</td>\n",
       "      <td>-1</td>\n",
       "    </tr>\n",
       "    <tr>\n",
       "      <th>4</th>\n",
       "      <td>Отмена операции</td>\n",
       "      <td>-1</td>\n",
       "    </tr>\n",
       "    <tr>\n",
       "      <th>5</th>\n",
       "      <td>Выход</td>\n",
       "      <td>0</td>\n",
       "    </tr>\n",
       "    <tr>\n",
       "      <th>6</th>\n",
       "      <td>Вход в систему</td>\n",
       "      <td>-1</td>\n",
       "    </tr>\n",
       "    <tr>\n",
       "      <th>7</th>\n",
       "      <td>Печать документов</td>\n",
       "      <td>-1</td>\n",
       "    </tr>\n",
       "    <tr>\n",
       "      <th>8</th>\n",
       "      <td>Подтверждение сотрудником загрузки скана докум...</td>\n",
       "      <td>1</td>\n",
       "    </tr>\n",
       "    <tr>\n",
       "      <th>9</th>\n",
       "      <td>Выход</td>\n",
       "      <td>0</td>\n",
       "    </tr>\n",
       "    <tr>\n",
       "      <th>10</th>\n",
       "      <td>Печать договора клиента</td>\n",
       "      <td>-1</td>\n",
       "    </tr>\n",
       "    <tr>\n",
       "      <th>11</th>\n",
       "      <td>Подтверждение сотрудником загрузки скана</td>\n",
       "      <td>1</td>\n",
       "    </tr>\n",
       "  </tbody>\n",
       "</table>\n",
       "</div>"
      ],
      "text/plain": [
       "                                            some_text  \\\n",
       "0                                                Вход   \n",
       "1                                      Выбор операции   \n",
       "2                                     Печать договора   \n",
       "3      Загрузка сотрудником скана документа в систему   \n",
       "4                                     Отмена операции   \n",
       "5                                              Выход    \n",
       "6                                      Вход в систему   \n",
       "7                                   Печать документов   \n",
       "8   Подтверждение сотрудником загрузки скана докум...   \n",
       "9                                               Выход   \n",
       "10                            Печать договора клиента   \n",
       "11           Подтверждение сотрудником загрузки скана   \n",
       "\n",
       "    Номер кластера (-1 - выбросы)  \n",
       "0                              -1  \n",
       "1                              -1  \n",
       "2                              -1  \n",
       "3                              -1  \n",
       "4                              -1  \n",
       "5                               0  \n",
       "6                              -1  \n",
       "7                              -1  \n",
       "8                               1  \n",
       "9                               0  \n",
       "10                             -1  \n",
       "11                              1  "
      ]
     },
     "execution_count": 5,
     "metadata": {},
     "output_type": "execute_result"
    }
   ],
   "source": [
    "stage_clustering_output"
   ]
  }
 ],
 "metadata": {
  "kernelspec": {
   "display_name": "Python 3.8.12 ('.pm')",
   "language": "python",
   "name": "python3"
  },
  "language_info": {
   "codemirror_mode": {
    "name": "ipython",
    "version": 3
   },
   "file_extension": ".py",
   "mimetype": "text/x-python",
   "name": "python",
   "nbconvert_exporter": "python",
   "pygments_lexer": "ipython3",
   "version": "3.8.12"
  },
  "orig_nbformat": 4,
  "vscode": {
   "interpreter": {
    "hash": "a5b3d609ea34d905782f74e70b860c8b5093bfe8c4c29182a72689cb5f1bcef4"
   }
  }
 },
 "nbformat": 4,
 "nbformat_minor": 2
}
